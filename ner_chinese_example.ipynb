{
 "cells": [
  {
   "cell_type": "code",
   "execution_count": 54,
   "metadata": {},
   "outputs": [],
   "source": [
    "%load_ext autoreload\n",
    "%autoreload 2"
   ]
  },
  {
   "cell_type": "markdown",
   "metadata": {},
   "source": [
    "## Named-entity recognition with a non-English dataset\n",
    "This code generates the results and visuals from the presentation included in the repository.  However, due to privacy issues, I wasn't able to include the datasets.  The pickle files were just lists of different entity types in Chinese, so you should be able to plug and play a lot of this."
   ]
  },
  {
   "cell_type": "code",
   "execution_count": 55,
   "metadata": {},
   "outputs": [],
   "source": [
    "import pandas as pd\n",
    "import numpy as np\n",
    "from copy import deepcopy\n",
    "from glob import glob\n",
    "import json\n",
    "import time\n",
    "import numpy as np\n",
    "import re\n",
    "from spacy.matcher import Matcher, PhraseMatcher\n",
    "from spacy.tokens import Span, Doc\n",
    "from spacy.lang.zh import Chinese\n",
    "from spacy.util import compounding, minibatch, random\n",
    "from spacy import displacy"
   ]
  },
  {
   "cell_type": "code",
   "execution_count": 1,
   "metadata": {},
   "outputs": [],
   "source": [
    "# import some utilities\n",
    "from utils import *"
   ]
  },
  {
   "cell_type": "code",
   "execution_count": 58,
   "metadata": {},
   "outputs": [],
   "source": [
    "# setting a custom entity extension to store information from patterns\n",
    "Doc.set_extension('entities', default=[], force=True)\n",
    "# establish pipe\n",
    "nlp = Chinese()"
   ]
  },
  {
   "cell_type": "code",
   "execution_count": 59,
   "metadata": {},
   "outputs": [],
   "source": [
    "# entity types (in order of preference)\n",
    "# overlapping entity of index 0 and index 1, entity of index 0 chosen\n",
    "ENTITY_TYPES = ['agencies', 'locations', 'products']"
   ]
  },
  {
   "cell_type": "code",
   "execution_count": 60,
   "metadata": {},
   "outputs": [
    {
     "name": "stdout",
     "output_type": "stream",
     "text": [
      "agencies (5961,)\n",
      "locations (396,)\n",
      "products (46346,)\n"
     ]
    }
   ],
   "source": [
    "# sample inventory data\n",
    "inventories = []\n",
    "for e in ENTITY_TYPES:\n",
    "    inventory = pd.read_pickle('./data/%s.pkl' % e)    \n",
    "    print(e, inventory.shape)\n",
    "    inventories.append(inventory)"
   ]
  },
  {
   "cell_type": "code",
   "execution_count": 61,
   "metadata": {},
   "outputs": [],
   "source": [
    "# spacy parse entities\n",
    "parsed_ents = []\n",
    "for i in inventories:\n",
    "    parsed_ents.append(parse_text(i, nlp))"
   ]
  },
  {
   "cell_type": "code",
   "execution_count": 62,
   "metadata": {},
   "outputs": [],
   "source": [
    "# Test for matcher\n",
    "# Ensure that the type hierarchy is being properly implemented\n",
    "matcher = PhraseMatcher(nlp.vocab)\n",
    "for i, c in enumerate(ENTITY_TYPES):\n",
    "    matcher.add(c, add_entity, *parsed_ents[i])\n",
    "# combined each type needs actually a type instance that contains another type instance\n",
    "# going to generate this\n",
    "seed_idx = 3\n",
    "agency_location = parsed_ents[0][seed_idx].text + parsed_ents[1][seed_idx].text\n",
    "matcher.add('agencies', add_entity, nlp.make_doc(agency_location))\n",
    "location_product = parsed_ents[1][seed_idx].text + parsed_ents[2][seed_idx].text\n",
    "matcher.add('locations', add_entity, nlp.make_doc(location_product))\n",
    "agency_product = parsed_ents[0][seed_idx].text + parsed_ents[2][seed_idx].text\n",
    "matcher.add('agencies', add_entity, nlp.make_doc(agency_product))"
   ]
  },
  {
   "cell_type": "code",
   "execution_count": 63,
   "metadata": {},
   "outputs": [
    {
     "name": "stdout",
     "output_type": "stream",
     "text": [
      "[(2833597281053035892, 0, 3), (13063876858105367867, 3, 4), (7206340754463407063, 4, 5), (2833597281053035892, 5, 8), (2833597281053035892, 5, 10), (13063876858105367867, 8, 10), (13063876858105367867, 10, 12), (13063876858105367867, 10, 13), (7206340754463407063, 12, 13), (2833597281053035892, 13, 16), (2833597281053035892, 13, 17), (7206340754463407063, 16, 17)]\n"
     ]
    },
    {
     "data": {
      "text/plain": [
       "[('agencies', 0, 3, '万荣县食药局'),\n",
       " ('locations', 3, 4, '上海'),\n",
       " ('products', 4, 5, '韭菜'),\n",
       " ('agencies', 5, 10, '万山区工商行政管理局三沙市'),\n",
       " ('locations', 10, 13, '三沙市小麦粉'),\n",
       " ('agencies', 13, 17, '万山区工商行政管理局小麦粉')]"
      ]
     },
     "execution_count": 63,
     "metadata": {},
     "output_type": "execute_result"
    }
   ],
   "source": [
    "# test add_entity\n",
    "# need to create instance of isolated each type and combined each type\n",
    "doc = ''\n",
    "for i in range(len(parsed_ents)):\n",
    "    doc+=parsed_ents[i][5].text + ' '\n",
    "for x in [agency_location, location_product, agency_product]:\n",
    "    doc+=x\n",
    "parsed_d = nlp.make_doc(doc)\n",
    "print(matcher(parsed_d))\n",
    "[(x[1], x[0].start, x[0].end, \n",
    "  #translate(parsed_d[x[0].start:x[0].end].text)) for x in parsed_d._.entities]\n",
    "  parsed_d[x[0].start:x[0].end].text) for x in parsed_d._.entities]"
   ]
  },
  {
   "cell_type": "code",
   "execution_count": null,
   "metadata": {},
   "outputs": [],
   "source": [
    "# intialize model\n",
    "nlp = Chinese()\n",
    "# initialize the matcher with model vocab\n",
    "matcher = PhraseMatcher(nlp.vocab)\n",
    "# add entity inventory as Doc objects from model\n",
    "or i, c in enumerate(ENTITY_TYPES):\n",
    "    matcher.add(c, add_entity, *parsed_ents[i])"
   ]
  },
  {
   "cell_type": "code",
   "execution_count": 64,
   "metadata": {},
   "outputs": [],
   "source": [
    "# reinitialize matcher and add all parsed entities\n",
    "matcher = PhraseMatcher(nlp.vocab)\n",
    "for i, c in enumerate(ENTITY_TYPES):\n",
    "    matcher.add(c, add_entity, *parsed_ents[i])"
   ]
  },
  {
   "cell_type": "code",
   "execution_count": 65,
   "metadata": {},
   "outputs": [],
   "source": [
    "# read full dataset\n",
    "all_cases = pd.read_pickle('./data/case_text.pkl')\n",
    "parsed_cases = [nlp.make_doc(text) for text in all_cases['body']]"
   ]
  },
  {
   "cell_type": "code",
   "execution_count": 66,
   "metadata": {},
   "outputs": [],
   "source": [
    "# run matcher on dataset, create annotated text\n",
    "parsed_w_annotation = [fc for fc in matcher.pipe(parsed_cases)]"
   ]
  },
  {
   "cell_type": "code",
   "execution_count": 67,
   "metadata": {},
   "outputs": [],
   "source": [
    "# make an inventory of the seen entities\n",
    "# necessary for splitting train/test entities\n",
    "# this is best designed as a matrix: documents x entities\n",
    "all_entities = pd.concat(inventories).tolist()\n",
    "doc_ent_mat = np.zeros(shape=(len(parsed_w_annotation), len(all_entities)))"
   ]
  },
  {
   "cell_type": "code",
   "execution_count": 68,
   "metadata": {},
   "outputs": [],
   "source": [
    "for i, x in enumerate(parsed_w_annotation):\n",
    "    seen_ents = set()\n",
    "    for e in x._.entities:\n",
    "        e_text = e[0].text\n",
    "        if e_text not in seen_ents:\n",
    "            type_idx = ENTITY_TYPES.index(e[1])\n",
    "            try:\n",
    "                e_idx = all_entities.index(e_text)\n",
    "            except ValueError:\n",
    "                # issue sometimes with matcher handling spaces\n",
    "                e_idx = all_entities.index(re.sub(' ', '', e_text))\n",
    "            doc_ent_mat[i, e_idx] = 1\n",
    "            seen_ents.add(e_text)"
   ]
  },
  {
   "cell_type": "code",
   "execution_count": 69,
   "metadata": {},
   "outputs": [],
   "source": [
    "def format_data(annotated_text, exclude=[]):\n",
    "    # utility for formatting data for model\n",
    "    # exclude: list of entities to exclude\n",
    "    training = []\n",
    "    for t in annotated_text:\n",
    "        entities = []\n",
    "        for p in t._.entities:\n",
    "            if p[0].text not in exclude:\n",
    "                entities.append((p[0].start_char, p[0].end_char, p[1]))\n",
    "        training.append((t.text, {'entities':entities}))\n",
    "    return(training)"
   ]
  },
  {
   "cell_type": "code",
   "execution_count": 70,
   "metadata": {},
   "outputs": [],
   "source": [
    "# split by year\n",
    "year_split = 2017\n",
    "# indexes of cases for test\n",
    "year_test_idxs = all_cases['year']>=year_split\n",
    "# get entities that only exist post 2017\n",
    "pre_ents_idxs = doc_ent_mat[~year_test_idxs].sum(axis=0)>0\n",
    "post_ents_idxs = doc_ent_mat[year_test_idxs].sum(axis=0)>0\n",
    "# only want those where post-pre = 1\n",
    "year_ents_idxs = np.argwhere((post_ents_idxs.astype(int)-pre_ents_idxs.astype(int))==1).flatten()\n",
    "year_ents = [all_entities[x] for x in year_ents_idxs]\n",
    "# get train/test docs\n",
    "year_train = [parsed_w_annotation[i] for i, x in enumerate(year_test_idxs) if not x]\n",
    "year_test = [parsed_w_annotation[i] for i, x in enumerate(year_test_idxs) if x]\n",
    "year_train_f = format_data(year_train)\n",
    "year_test_f = format_data(year_test)\n",
    "# baseline: test docs without entities from post 2017\n",
    "year_baseline = format_data(year_test, exclude=year_ents)"
   ]
  },
  {
   "cell_type": "code",
   "execution_count": 182,
   "metadata": {},
   "outputs": [],
   "source": [
    "# exclude random % entities of each type\n",
    "test_pct = 0.3\n",
    "offset = 0\n",
    "exclude_ents = []\n",
    "count_found_ents = 0\n",
    "for i in range(len(inventories)):\n",
    "    found_ents_idxs = doc_ent_mat[:, offset:offset+len(inventories[i])].sum(axis=0)>0\n",
    "    found_ents = np.array(parsed_ents[i])[found_ents_idxs]\n",
    "    sample_ents = np.random.choice(found_ents,\n",
    "                                   size=round(len(found_ents)*test_pct), \n",
    "                                   replace=False)\n",
    "    exclude_ents += [x.text for x in sample_ents]\n",
    "    offset += len(inventories[i])\n",
    "    count_found_ents += len(found_ents)"
   ]
  },
  {
   "cell_type": "code",
   "execution_count": 184,
   "metadata": {},
   "outputs": [
    {
     "name": "stdout",
     "output_type": "stream",
     "text": [
      "14914 6309 21223\n"
     ]
    }
   ],
   "source": [
    "# random exclude, still do train/test split\n",
    "test_idxs = np.random.random(size=len(parsed_w_annotation))<test_pct\n",
    "exclude_train = [parsed_w_annotation[i] for i, x in enumerate(test_idxs) if not x]\n",
    "exclude_test = [parsed_w_annotation[i] for i, x in enumerate(test_idxs) if x]\n",
    "print(len(exclude_train), len(exclude_test), len(parsed_w_annotation))\n",
    "exclude_train_f = format_data(exclude_train, exclude=exclude_ents)\n",
    "exclude_test_f = format_data(exclude_test)\n",
    "# baseline: test docs without excluded entities\n",
    "exclude_baseline = format_data(exclude_test, exclude=exclude_ents)\n",
    "# might want to run this multiple times?"
   ]
  },
  {
   "cell_type": "code",
   "execution_count": 20,
   "metadata": {},
   "outputs": [],
   "source": [
    "# save down, memory is sometimes an issue\n",
    "import pickle\n",
    "pickle.dump(exclude_train_f, open('data/exclude_train_f.pkl', 'wb'))\n",
    "pickle.dump(exclude_test_f, open('data/exclude_test_f.pkl', 'wb'))\n",
    "pickle.dump(exclude_baseline, open('data/exclude_baseline.pkl', 'wb'))\n",
    "\n",
    "pickle.dump(year_train_f, open('data/year_train_f.pkl', 'wb'))\n",
    "pickle.dump(year_test_f, open('data/year_test_f.pkl', 'wb'))\n",
    "pickle.dump(year_baseline, open('data/year_baseline.pkl', 'wb'))"
   ]
  },
  {
   "cell_type": "markdown",
   "metadata": {},
   "source": [
    "## Kill kernel here, if concerned about memory issues"
   ]
  },
  {
   "cell_type": "code",
   "execution_count": 3,
   "metadata": {},
   "outputs": [],
   "source": [
    "import spacy\n",
    "import pandas as pd\n",
    "from spacy.matcher import Matcher, PhraseMatcher\n",
    "from spacy.tokens import Span, Doc\n",
    "from spacy.lang.zh import Chinese\n",
    "from spacy.util import compounding, minibatch, random\n",
    "from sklearn.metrics import precision_recall_fscore_support, accuracy_score\n",
    "from spacy.gold import GoldParse\n",
    "from spacy.scorer import Scorer\n",
    "import numpy as np\n",
    "import pickle\n",
    "import sys\n",
    "sys.path.append('src')\n",
    "from utils import *\n",
    "# establish pipe\n",
    "nlp = Chinese()\n",
    "ENTITY_TYPES = ['agencies', 'locations', 'products']"
   ]
  },
  {
   "cell_type": "code",
   "execution_count": 3,
   "metadata": {},
   "outputs": [],
   "source": [
    "# load data for particular version\n",
    "model_v = 'year'\n",
    "train_data = pickle.load(open('data/{}_train_f.pkl'.format(model_v), 'rb'))\n",
    "test_data = pickle.load(open('data/{}_test_f.pkl'.format(model_v), 'rb'))\n",
    "baseline_data = pickle.load(open('data/{}_baseline.pkl'.format(model_v), 'rb'))"
   ]
  },
  {
   "cell_type": "code",
   "execution_count": 31,
   "metadata": {},
   "outputs": [
    {
     "name": "stdout",
     "output_type": "stream",
     "text": [
      "Losses {'ner': 150678.866278929}\n",
      "Saving model\n",
      "Losses {'ner': 71037.57341729387}\n",
      "Saving model\n",
      "Losses {'ner': 53585.542202386874}\n",
      "Saving model\n",
      "Losses {'ner': 44793.094466935225}\n",
      "Saving model\n",
      "Losses {'ner': 39181.79150611553}\n",
      "Saving model\n",
      "Losses {'ner': 36695.33894062072}\n",
      "Saving model\n",
      "Losses {'ner': 32753.122350602564}\n",
      "Saving model\n",
      "Losses {'ner': 31568.22078213447}\n",
      "Saving model\n",
      "Losses {'ner': 29541.36630013149}\n",
      "Saving model\n",
      "Losses {'ner': 27848.577419047593}\n",
      "Saving model\n",
      "Losses {'ner': 25726.026025999436}\n",
      "Saving model\n",
      "Losses {'ner': 24930.95305890452}\n",
      "Saving model\n",
      "Losses {'ner': 24742.795299783003}\n",
      "Saving model\n",
      "Losses {'ner': 23774.423918004028}\n",
      "Saving model\n",
      "Losses {'ner': 22609.91419989435}\n",
      "Saving model\n"
     ]
    }
   ],
   "source": [
    "full_model = train_model(train_data, 'data/{}_model'.format(model_v), \n",
    "                         categories, epoch=15, nlp_model=None)"
   ]
  },
  {
   "cell_type": "code",
   "execution_count": 14,
   "metadata": {},
   "outputs": [],
   "source": [
    "def get_model_results(model, train, test, baseline, excluded=[]):\n",
    "    # utility to score model\n",
    "    f_test_parsed = run_parse(test, model)\n",
    "    f_train_parsed = run_parse(train, model)\n",
    "    \n",
    "    excluded = reconstruct_excluded(train, test)\n",
    "    # results dict\n",
    "    scores = {}\n",
    "    scores['train'] = custom_scorer(f_train_parsed, train)\n",
    "    scores['test'] = custom_scorer(f_test_parsed, test)\n",
    "    scores['baseline'] = custom_scorer(baseline, test)\n",
    "    scores['test_recall'] = custom_scorer(f_test_parsed, test, subset=excluded)\n",
    "    scores['baseline_recall'] = custom_scorer(baseline, test, subset=excluded)\n",
    "    return(f_test_parsed, f_train_parsed, scores)"
   ]
  },
  {
   "cell_type": "code",
   "execution_count": 15,
   "metadata": {},
   "outputs": [
    {
     "name": "stderr",
     "output_type": "stream",
     "text": [
      "Building prefix dict from the default dictionary ...\n",
      "Dumping model to file cache /var/folders/8b/z4x642j15_1dbkmc_l_p8r540000gn/T/jieba.cache\n",
      "Loading model cost 0.742 seconds.\n",
      "Prefix dict has been built successfully.\n"
     ]
    },
    {
     "name": "stdout",
     "output_type": "stream",
     "text": [
      "6708 4378\n"
     ]
    }
   ],
   "source": [
    "# year\n",
    "model_v = 'year'\n",
    "train_data = pickle.load(open('data/{}_train_f.pkl'.format(model_v), 'rb'))\n",
    "test_data = pickle.load(open('data/{}_test_f.pkl'.format(model_v), 'rb'))\n",
    "baseline_data = pickle.load(open('data/{}_baseline.pkl'.format(model_v), 'rb'))\n",
    "year_model = spacy.load('data/year_model')\n",
    "year_te_p, year_tr_p, year_scores = get_model_results(year_model, train_data, test_data, baseline_data)"
   ]
  },
  {
   "cell_type": "code",
   "execution_count": 16,
   "metadata": {},
   "outputs": [
    {
     "name": "stdout",
     "output_type": "stream",
     "text": [
      "5066 4509\n"
     ]
    }
   ],
   "source": [
    "# excluded\n",
    "model_v = 'exclude'\n",
    "train_data = pickle.load(open('data/{}_train_f.pkl'.format(model_v), 'rb'))\n",
    "test_data = pickle.load(open('data/{}_test_f.pkl'.format(model_v), 'rb'))\n",
    "baseline_data = pickle.load(open('data/{}_baseline.pkl'.format(model_v), 'rb'))\n",
    "excluded_model = spacy.load('data/{}_model'.format(model_v))\n",
    "ex_te_p, ex_tr_p, excluded_scores = get_model_results(excluded_model, train_data, test_data, baseline_data)"
   ]
  },
  {
   "cell_type": "code",
   "execution_count": 79,
   "metadata": {},
   "outputs": [
    {
     "data": {
      "text/html": [
       "<div>\n",
       "<style scoped>\n",
       "    .dataframe tbody tr th:only-of-type {\n",
       "        vertical-align: middle;\n",
       "    }\n",
       "\n",
       "    .dataframe tbody tr th {\n",
       "        vertical-align: top;\n",
       "    }\n",
       "\n",
       "    .dataframe thead th {\n",
       "        text-align: right;\n",
       "    }\n",
       "</style>\n",
       "<table border=\"1\" class=\"dataframe\">\n",
       "  <thead>\n",
       "    <tr style=\"text-align: right;\">\n",
       "      <th></th>\n",
       "      <th>entity_types</th>\n",
       "      <th>baseline_recall</th>\n",
       "      <th>split</th>\n",
       "    </tr>\n",
       "  </thead>\n",
       "  <tbody>\n",
       "    <tr>\n",
       "      <th>0</th>\n",
       "      <td>agencies</td>\n",
       "      <td>0.0</td>\n",
       "      <td>exclude</td>\n",
       "    </tr>\n",
       "    <tr>\n",
       "      <th>1</th>\n",
       "      <td>locations</td>\n",
       "      <td>0.0</td>\n",
       "      <td>exclude</td>\n",
       "    </tr>\n",
       "    <tr>\n",
       "      <th>2</th>\n",
       "      <td>products</td>\n",
       "      <td>0.0</td>\n",
       "      <td>exclude</td>\n",
       "    </tr>\n",
       "    <tr>\n",
       "      <th>0</th>\n",
       "      <td>agencies</td>\n",
       "      <td>0.0</td>\n",
       "      <td>year</td>\n",
       "    </tr>\n",
       "    <tr>\n",
       "      <th>1</th>\n",
       "      <td>locations</td>\n",
       "      <td>0.0</td>\n",
       "      <td>year</td>\n",
       "    </tr>\n",
       "    <tr>\n",
       "      <th>2</th>\n",
       "      <td>products</td>\n",
       "      <td>0.0</td>\n",
       "      <td>year</td>\n",
       "    </tr>\n",
       "  </tbody>\n",
       "</table>\n",
       "</div>"
      ],
      "text/plain": [
       "  entity_types  baseline_recall    split\n",
       "0     agencies              0.0  exclude\n",
       "1    locations              0.0  exclude\n",
       "2     products              0.0  exclude\n",
       "0     agencies              0.0     year\n",
       "1    locations              0.0     year\n",
       "2     products              0.0     year"
      ]
     },
     "execution_count": 79,
     "metadata": {},
     "output_type": "execute_result"
    }
   ],
   "source": [
    "# create visuals\n",
    "# per-entity train f1, test f1 and recall\n",
    "def create_viz(scores):\n",
    "    out_dict = {}\n",
    "    out_dict['entity_types'] = ENTITY_TYPES\n",
    "    for s in ['baseline_recall']:\n",
    "        e_score = scores[s][1]\n",
    "        out_dict[s] = [e_score[k].recall for k in e_score]\n",
    "    return(out_dict)\n",
    "combined_excluded = pd.DataFrame(create_viz(excluded_scores))\n",
    "combined_excluded['split'] = 'exclude'\n",
    "combined_year = pd.DataFrame(create_viz(year_scores))\n",
    "combined_year['split'] = 'year'\n",
    "combined_excluded.append(combined_year)"
   ]
  },
  {
   "cell_type": "code",
   "execution_count": 18,
   "metadata": {},
   "outputs": [
    {
     "data": {
      "text/html": [
       "<div>\n",
       "<style scoped>\n",
       "    .dataframe tbody tr th:only-of-type {\n",
       "        vertical-align: middle;\n",
       "    }\n",
       "\n",
       "    .dataframe tbody tr th {\n",
       "        vertical-align: top;\n",
       "    }\n",
       "\n",
       "    .dataframe thead th {\n",
       "        text-align: right;\n",
       "    }\n",
       "</style>\n",
       "<table border=\"1\" class=\"dataframe\">\n",
       "  <thead>\n",
       "    <tr style=\"text-align: right;\">\n",
       "      <th></th>\n",
       "      <th>entity_types</th>\n",
       "      <th>train</th>\n",
       "      <th>test</th>\n",
       "      <th>baseline</th>\n",
       "      <th>test_recall</th>\n",
       "      <th>split</th>\n",
       "    </tr>\n",
       "  </thead>\n",
       "  <tbody>\n",
       "    <tr>\n",
       "      <th>0</th>\n",
       "      <td>agencies</td>\n",
       "      <td>0.896006</td>\n",
       "      <td>0.791003</td>\n",
       "      <td>0.790875</td>\n",
       "      <td>0.365866</td>\n",
       "      <td>exclude</td>\n",
       "    </tr>\n",
       "    <tr>\n",
       "      <th>1</th>\n",
       "      <td>locations</td>\n",
       "      <td>0.996670</td>\n",
       "      <td>0.777109</td>\n",
       "      <td>0.781846</td>\n",
       "      <td>0.000000</td>\n",
       "      <td>exclude</td>\n",
       "    </tr>\n",
       "    <tr>\n",
       "      <th>2</th>\n",
       "      <td>products</td>\n",
       "      <td>0.989818</td>\n",
       "      <td>0.669463</td>\n",
       "      <td>0.679950</td>\n",
       "      <td>0.004685</td>\n",
       "      <td>exclude</td>\n",
       "    </tr>\n",
       "    <tr>\n",
       "      <th>0</th>\n",
       "      <td>agencies</td>\n",
       "      <td>0.950025</td>\n",
       "      <td>0.804382</td>\n",
       "      <td>0.786307</td>\n",
       "      <td>0.801885</td>\n",
       "      <td>year</td>\n",
       "    </tr>\n",
       "    <tr>\n",
       "      <th>1</th>\n",
       "      <td>locations</td>\n",
       "      <td>0.996601</td>\n",
       "      <td>0.988772</td>\n",
       "      <td>0.999331</td>\n",
       "      <td>0.120301</td>\n",
       "      <td>year</td>\n",
       "    </tr>\n",
       "    <tr>\n",
       "      <th>2</th>\n",
       "      <td>products</td>\n",
       "      <td>0.994531</td>\n",
       "      <td>0.956569</td>\n",
       "      <td>0.974211</td>\n",
       "      <td>0.096167</td>\n",
       "      <td>year</td>\n",
       "    </tr>\n",
       "  </tbody>\n",
       "</table>\n",
       "</div>"
      ],
      "text/plain": [
       "  entity_types     train      test  baseline  test_recall    split\n",
       "0     agencies  0.896006  0.791003  0.790875     0.365866  exclude\n",
       "1    locations  0.996670  0.777109  0.781846     0.000000  exclude\n",
       "2     products  0.989818  0.669463  0.679950     0.004685  exclude\n",
       "0     agencies  0.950025  0.804382  0.786307     0.801885     year\n",
       "1    locations  0.996601  0.988772  0.999331     0.120301     year\n",
       "2     products  0.994531  0.956569  0.974211     0.096167     year"
      ]
     },
     "execution_count": 18,
     "metadata": {},
     "output_type": "execute_result"
    }
   ],
   "source": [
    "# create visuals\n",
    "# per-entity train f1, test f1 and recall\n",
    "def agg_scores(scores):\n",
    "    out_dict = {}\n",
    "    out_dict['entity_types'] = ENTITY_TYPES\n",
    "    for s in ['train', 'test', 'baseline']:\n",
    "        e_score = scores[s][1]\n",
    "        out_dict[s] = [e_score[k].fscore for k in e_score]\n",
    "    for s in ['test_recall']:\n",
    "        e_score = scores[s][1]\n",
    "        out_dict[s] = [e_score[k].recall for k in e_score]\n",
    "    return(out_dict)\n",
    "combined_excluded = pd.DataFrame(agg_scores(excluded_scores))\n",
    "combined_excluded['split'] = 'exclude'\n",
    "combined_year = pd.DataFrame(agg_scores(year_scores))\n",
    "combined_year['split'] = 'year'\n",
    "combined = combined_excluded.append(combined_year)\n",
    "combined"
   ]
  },
  {
   "cell_type": "code",
   "execution_count": 19,
   "metadata": {},
   "outputs": [
    {
     "data": {
      "text/plain": [
       "Text(0.5, 1.0, 'Excluded entities approach')"
      ]
     },
     "execution_count": 19,
     "metadata": {},
     "output_type": "execute_result"
    },
    {
     "data": {
      "image/png": "[encoded data removed]",
      "text/plain": [
       "<Figure size 432x432 with 1 Axes>"
      ]
     },
     "metadata": {
      "needs_background": "light"
     },
     "output_type": "display_data"
    }
   ],
   "source": [
    "# visualize\n",
    "p = combined_excluded.set_index('entity_types')[['train', 'baseline',  'test']].plot(\n",
    "    kind='barh', figsize=(6,6))\n",
    "p.set_ylabel('');\n",
    "p.set_xlabel('F1 score')\n",
    "p.set_title('Excluded entities approach')"
   ]
  },
  {
   "cell_type": "code",
   "execution_count": 83,
   "metadata": {},
   "outputs": [
    {
     "data": {
      "text/plain": [
       "Text(0.5, 1.0, 'Year-split entities approach')"
      ]
     },
     "execution_count": 83,
     "metadata": {},
     "output_type": "execute_result"
    },
    {
     "data": {
      "image/png": "[encoded data removed]",
      "text/plain": [
       "<Figure size 432x432 with 1 Axes>"
      ]
     },
     "metadata": {
      "needs_background": "light"
     },
     "output_type": "display_data"
    }
   ],
   "source": [
    "# visualize\n",
    "p = combined_year.set_index('entity_types')[['train', 'baseline', 'test']].plot(\n",
    "    kind='barh', figsize=(6,6))\n",
    "p.set_ylabel('');\n",
    "p.set_xlabel('F1 score')\n",
    "p.set_title('Year-split entities approach')"
   ]
  },
  {
   "cell_type": "code",
   "execution_count": 93,
   "metadata": {},
   "outputs": [
    {
     "data": {
      "text/plain": [
       "Text(0.5, 1.0, 'Recall by type for each approach')"
      ]
     },
     "execution_count": 93,
     "metadata": {},
     "output_type": "execute_result"
    },
    {
     "data": {
      "image/png": "[encoded data removed]",
      "text/plain": [
       "<Figure size 432x432 with 1 Axes>"
      ]
     },
     "metadata": {
      "needs_background": "light"
     },
     "output_type": "display_data"
    }
   ],
   "source": [
    "# visualize\n",
    "recall_plot = combined.set_index(['entity_types', 'split'])['test_recall'].unstack(level=1)\n",
    "p = recall_plot.plot(\n",
    "    kind='barh', figsize=(6,6))\n",
    "p.set_ylabel('');\n",
    "p.set_xlabel('Recall')\n",
    "p.set_title('Recall by type for each approach')"
   ]
  },
  {
   "cell_type": "code",
   "execution_count": 112,
   "metadata": {},
   "outputs": [],
   "source": [
    "# get some example not-identified\n",
    "from collections import defaultdict\n",
    "test_data = pickle.load(open('data/year_test_f.pkl'.format(model_v), 'rb'))\n",
    "not_identified = defaultdict(list)\n",
    "for i, (doc, annot) in enumerate(test_data):\n",
    "    missing = set(annot['entities'])- set(year_te_p[i][1]['entities'])\n",
    "    if len(missing)>0:\n",
    "        for m in missing:\n",
    "            not_identified[m[2]].append(doc[m[0]:m[1]])"
   ]
  },
  {
   "cell_type": "code",
   "execution_count": 122,
   "metadata": {},
   "outputs": [],
   "source": [
    "# get some example not-identified\n",
    "from collections import defaultdict\n",
    "test_data = pickle.load(open('data/exclude_test_f.pkl'.format(model_v), 'rb'))\n",
    "not_identified = defaultdict(list)\n",
    "for i, (doc, annot) in enumerate(test_data):\n",
    "    missing = set(annot['entities'])- set(ex_te_p[i][1]['entities'])\n",
    "    if len(missing)>0:\n",
    "        for m in missing:\n",
    "            not_identified[m[2]].append(doc[m[0]:m[1]])"
   ]
  },
  {
   "cell_type": "code",
   "execution_count": null,
   "metadata": {},
   "outputs": [],
   "source": [
    "doc = excluded_model(ex_te_p[0][0])\n",
    "colors = {\"AGENCIES\": \"#ea9999\", \n",
    "         \"LOCATIONS\":\"#ffe599\",\n",
    "         \"PRODUCTS\":\"#a4c2f4\"}\n",
    "\n",
    "options = {\"ents\": [\"AGENCIES\", \"LOCATIONS\", \"PRODUCTS\"], \"colors\": colors}\n",
    "displacy.serve(doc, style=\"ent\", options=options)"
   ]
  }
 ],
 "metadata": {
  "kernelspec": {
   "display_name": "Python [conda env:mainpy3] *",
   "language": "python",
   "name": "conda-env-mainpy3-py"
  },
  "language_info": {
   "codemirror_mode": {
    "name": "ipython",
    "version": 3
   },
   "file_extension": ".py",
   "mimetype": "text/x-python",
   "name": "python",
   "nbconvert_exporter": "python",
   "pygments_lexer": "ipython3",
   "version": "3.6.7"
  }
 },
 "nbformat": 4,
 "nbformat_minor": 2
}
